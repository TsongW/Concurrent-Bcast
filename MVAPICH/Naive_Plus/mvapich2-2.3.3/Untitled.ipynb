{
 "cells": [
  {
   "cell_type": "markdown",
   "metadata": {},
   "source": [
    "# Multi Leader, 2 Level Ring Allgather "
   ]
  },
  {
   "cell_type": "code",
   "execution_count": 25,
   "metadata": {},
   "outputs": [
    {
     "name": "stdout",
     "output_type": "stream",
     "text": [
      "12 will send to 20 and receive from 4\n",
      "12 will send to 20 and receive from 4\n",
      "12 will send to 20 and receive from 4\n",
      "----------------------------------------\n",
      "12 will send to 13 and receive from 11\n",
      "12 will send to 13 and receive from 11\n",
      "12 will send to 13 and receive from 11\n",
      "12 will send to 13 and receive from 11\n",
      "12 will send to 13 and receive from 11\n",
      "12 will send to 13 and receive from 11\n",
      "12 will send to 13 and receive from 11\n"
     ]
    }
   ],
   "source": [
    "n = 4\n",
    "p = 8\n",
    "comm_size = n * p\n",
    "data = [[y*8+x for x in range(8)] for y in range(4)]\n",
    "\n",
    "my_rank = 12\n",
    "\n",
    "# Inter-Node Ring\n",
    "dst = (my_rank + p) % comm_size\n",
    "src = (comm_size + my_rank - p )% comm_size\n",
    "for i in range(1,n):    \n",
    "    print('{} will send to {} and receive from {}'.format(my_rank, dst, src))\n",
    "    \n",
    "print('----------------------------------------')\n",
    "\n",
    "# Intra-Node Ring\n",
    "dst = (my_rank + 1) % comm_size\n",
    "src = (my_rank - 1 + comm_size) % comm_size\n",
    "for i in range(1, p):\n",
    "    print('{} will send to {} and receive from {}'.format(my_rank, dst, src))"
   ]
  },
  {
   "cell_type": "code",
   "execution_count": null,
   "metadata": {},
   "outputs": [],
   "source": []
  },
  {
   "cell_type": "code",
   "execution_count": null,
   "metadata": {},
   "outputs": [],
   "source": []
  },
  {
   "cell_type": "code",
   "execution_count": null,
   "metadata": {},
   "outputs": [],
   "source": []
  }
 ],
 "metadata": {
  "kernelspec": {
   "display_name": "Python 3",
   "language": "python",
   "name": "python3"
  },
  "language_info": {
   "codemirror_mode": {
    "name": "ipython",
    "version": 3
   },
   "file_extension": ".py",
   "mimetype": "text/x-python",
   "name": "python",
   "nbconvert_exporter": "python",
   "pygments_lexer": "ipython3",
   "version": "3.7.3"
  }
 },
 "nbformat": 4,
 "nbformat_minor": 2
}
