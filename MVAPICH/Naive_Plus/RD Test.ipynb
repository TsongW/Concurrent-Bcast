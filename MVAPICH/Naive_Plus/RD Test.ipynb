{
 "cells": [
  {
   "cell_type": "code",
   "execution_count": 9,
   "metadata": {},
   "outputs": [
    {
     "name": "stdout",
     "output_type": "stream",
     "text": [
      "7 6\n",
      "6 4\n",
      "4 0\n"
     ]
    }
   ],
   "source": [
    "mask = 0x1\n",
    "i = 0\n",
    "comm_size=8\n",
    "rank=7\n",
    "while (mask < comm_size):\n",
    "    dst = rank ^ mask\n",
    "\n",
    "    dst_tree_root = dst >> i\n",
    "    dst_tree_root <<= i\n",
    "\n",
    "    my_tree_root = rank >> i\n",
    "    my_tree_root <<= i\n",
    "    \n",
    "    print(my_tree_root, dst_tree_root)\n",
    "    \n",
    "    mask <<= 1\n",
    "    i+=1"
   ]
  }
 ],
 "metadata": {
  "kernelspec": {
   "display_name": "Python 3",
   "language": "python",
   "name": "python3"
  },
  "language_info": {
   "codemirror_mode": {
    "name": "ipython",
    "version": 3
   },
   "file_extension": ".py",
   "mimetype": "text/x-python",
   "name": "python",
   "nbconvert_exporter": "python",
   "pygments_lexer": "ipython3",
   "version": "3.7.3"
  }
 },
 "nbformat": 4,
 "nbformat_minor": 2
}
