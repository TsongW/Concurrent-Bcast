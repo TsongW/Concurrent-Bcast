{
 "cells": [
  {
   "cell_type": "code",
   "execution_count": 124,
   "metadata": {},
   "outputs": [
    {
     "name": "stdout",
     "output_type": "stream",
     "text": [
      "0 11\n",
      "1 8\n",
      "2 14\n",
      "3 2\n",
      "nprocs_completed:  5\n",
      "4- Receive 5 from 2\n",
      "4- Send to 14\n"
     ]
    }
   ],
   "source": [
    "mask = 0x1\n",
    "i = 0\n",
    "comm_size=21\n",
    "rank=10\n",
    "\n",
    "while (mask < comm_size):\n",
    "    dst = rank ^ mask\n",
    "    \n",
    "    dst_tree_root = dst >> i\n",
    "    dst_tree_root <<= i\n",
    "    \n",
    "    my_tree_root = rank >> i\n",
    "    my_tree_root <<= i\n",
    "    if dst<comm_size:\n",
    "        print(i, dst)\n",
    "    \n",
    "    if (dst_tree_root + mask > comm_size):\n",
    "        nprocs_completed = comm_size - my_tree_root - mask\n",
    "        print('nprocs_completed: ', nprocs_completed)\n",
    "        j = mask\n",
    "        k = 0\n",
    "        while (j):\n",
    "            j >>= 1\n",
    "            k += 1\n",
    "        k -= 1\n",
    "        tmp_mask = mask >> 1\n",
    "        \n",
    "        while (tmp_mask):\n",
    "            dst = rank ^ tmp_mask\n",
    "            tree_root = rank >> k\n",
    "            tree_root <<= k\n",
    "            if ((dst > rank) and (rank < tree_root + nprocs_completed) and (dst >= tree_root + nprocs_completed)):\n",
    "                print('{}- Send to {}'.format(i, dst))\n",
    "            elif ((dst < rank) and (dst < tree_root + nprocs_completed) and (rank >= tree_root + nprocs_completed)):\n",
    "                print('{}- Receive {} from {}'.format(i, comm_size - (my_tree_root + mask), dst))\n",
    "            \n",
    "            tmp_mask >>= 1\n",
    "            k -= 1\n",
    "    \n",
    "    mask <<= 1\n",
    "    i+=1"
   ]
  }
 ],
 "metadata": {
  "kernelspec": {
   "display_name": "Python 3",
   "language": "python",
   "name": "python3"
  },
  "language_info": {
   "codemirror_mode": {
    "name": "ipython",
    "version": 3
   },
   "file_extension": ".py",
   "mimetype": "text/x-python",
   "name": "python",
   "nbconvert_exporter": "python",
   "pygments_lexer": "ipython3",
   "version": "3.7.3"
  }
 },
 "nbformat": 4,
 "nbformat_minor": 2
}
