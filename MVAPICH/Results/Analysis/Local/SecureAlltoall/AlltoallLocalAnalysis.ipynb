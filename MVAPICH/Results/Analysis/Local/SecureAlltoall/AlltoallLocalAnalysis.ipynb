{
 "cells": [
  {
   "cell_type": "code",
   "execution_count": 4,
   "metadata": {
    "scrolled": true
   },
   "outputs": [
    {
     "name": "stdout",
     "output_type": "stream",
     "text": [
      "[1, 2, 4, 8, 16, 32, 64, 128, 256, 512, 1024, 2048, 4096, 8192, 16384, 32768, 65536, 131072, 262144]\n",
      "Hiu\n"
     ]
    }
   ],
   "source": [
    "import pandas as pd\n",
    "import matplotlib.pyplot as plt\n",
    "import seaborn as sns\n",
    "import os\n",
    "import math\n",
    "import PyGnuplot as gp\n",
    "\n",
    "sns.set()\n",
    "sns.set_style(\"whitegrid\")\n",
    "\n",
    "\n",
    "\n",
    "#inv_data = pd.read_excel('Inv-Allgather-MVAPICH.xlsx', sheet_name='Summary')\n",
    "ns_data = pd.read_excel('10rep-NS-AlltoAll-MVAPICH.xlsx', sheet_name='Summary')\n",
    "\n",
    "MessageSizes = list(ns_data['Unnamed: 0'][3:22])\n",
    "\n",
    "\n",
    "print(MessageSizes)\n",
    "print('Hiu')"
   ]
  },
  {
   "cell_type": "markdown",
   "metadata": {},
   "source": [
    "# Bar Plots"
   ]
  },
  {
   "cell_type": "code",
   "execution_count": 5,
   "metadata": {},
   "outputs": [],
   "source": [
    "def export_data(data, subsets, MessageSizes, caption):\n",
    "    bars = len(data)\n",
    "    offsets = [1, 1000, 1000]\n",
    "    for i in range(len(subsets)):\n",
    "        with open(caption+'_bar_data_'+str(i)+'.dat', 'w') as output:\n",
    "            for k in (subsets[i]):\n",
    "                new_line = str(MessageSizes[k])\n",
    "                for j in range(bars):\n",
    "                    new_line +=  \" \" + str(data[j][k]/offsets[i])\n",
    "                    if j == bars-1:\n",
    "                        output.write(new_line)\n",
    "                        output.write(\"\\n\")\n",
    "\n",
    "\n",
    "\n",
    "\n",
    "\n",
    "def bar_plot(idx, subsets, label, caption):\n",
    "    types = ['Small', 'Med', 'Large', 'Large']\n",
    "    if 'unenc' in caption:\n",
    "        plotter = 'Bar_Plot_'\n",
    "    else:\n",
    "        plotter = 'Enc_Bar_Plot_'\n",
    "    cmd = '''gnuplot -e \"label='{}'\" -e \"file='{}'\" {}{}.p'''.format(label+str(idx), caption+'_bar_data_'+str(idx)+'.dat',plotter, types[idx])\n",
    "    os.system(cmd)"
   ]
  },
  {
   "cell_type": "markdown",
   "metadata": {},
   "source": [
    "# Unencrypted"
   ]
  },
  {
   "cell_type": "markdown",
   "metadata": {},
   "source": [
    "## Block"
   ]
  },
  {
   "cell_type": "code",
   "execution_count": 55,
   "metadata": {},
   "outputs": [],
   "source": [
    "NS_Unenc_Default = list(ns_data['Unnamed: 1'][3:22])\n",
    "NS_Unenc_CHS = list(ns_data['Unnamed: 2'][3:22])\n",
    "\n",
    "\n",
    "subsets = [[0, 1, 2, 5, 7, 9], [11, 12, 14, 16],[]]\n",
    "data = [NS_Unenc_Default, NS_Unenc_CHS]\n",
    "\n",
    "\n",
    "\n",
    "# export_data(data, subsets, MessageSizes, 'unenc')\n",
    "\n",
    "for i in range(len(subsets)): \n",
    "    bar_plot(i, subsets, 'unenc_NS_B_', 'unenc')"
   ]
  },
  {
   "cell_type": "markdown",
   "metadata": {},
   "source": [
    "## Cyclic"
   ]
  },
  {
   "cell_type": "code",
   "execution_count": 45,
   "metadata": {},
   "outputs": [],
   "source": [
    "NS_Unenc_C_Default_8_128 = list(ns_data['Unnamed: 1'][87:109])\n",
    "NS_Unenc_C_NB_8_128 = list(ns_data['Unnamed: 2'][87:109])\n",
    "NS_Unenc_C_RingNB_8_128 = list(ns_data['Unnamed: 3'][87:109])\n",
    "NS_Unenc_C_MLRing_8_128 = list(ns_data['Unnamed: 4'][87:109])\n",
    "NS_Unenc_C_MLRD_8_128 = list(ns_data['Unnamed: 5'][87:109])\n",
    "NS_Unenc_C_ShMem_8_128 = list(ns_data['Unnamed: 6'][87:109])\n",
    "\n",
    "\n",
    "subsets = [[0, 6, 7, 8, 11], [12, 13, 14, 15], [17, 19, 20, 21]]\n",
    "data = [NS_Unenc_C_Default_8_128, NS_Unenc_C_NB_8_128, NS_Unenc_C_RingNB_8_128, NS_Unenc_C_MLRing_8_128, NS_Unenc_C_MLRD_8_128, NS_Unenc_C_ShMem_8_128]\n",
    "\n",
    "#export_data(data, subsets, MessageSizes, 'unenc_c')\n",
    "\n",
    "for i in range(len(subsets)):\n",
    "    bar_plot(i, subsets, 'unenc_NS_C_', 'unenc_c')\n"
   ]
  },
  {
   "cell_type": "markdown",
   "metadata": {},
   "source": [
    "# Encrypted"
   ]
  },
  {
   "cell_type": "markdown",
   "metadata": {},
   "source": [
    "## Block"
   ]
  },
  {
   "cell_type": "code",
   "execution_count": 54,
   "metadata": {},
   "outputs": [
    {
     "name": "stdout",
     "output_type": "stream",
     "text": [
      "800.2\n"
     ]
    }
   ],
   "source": [
    "NS_Naive_Bruck = list(ns_data['Unnamed: 3'][3:22])\n",
    "NS_Naive_SD = list(ns_data['Unnamed: 4'][3:22])\n",
    "NS_Naive_CHS = list(ns_data['Unnamed: 5'][3:22])\n",
    "\n",
    "\n",
    "NS_O_Bruck1 = list(ns_data['Unnamed: 6'][3:22])\n",
    "NS_O_Bruck2 = list(ns_data['Unnamed: 7'][3:22])\n",
    "NS_O_SD = list(ns_data['Unnamed: 8'][3:22])\n",
    "NS_O_CHS = list(ns_data['Unnamed: 9'][3:22])\n",
    "\n",
    "\n",
    "data = [NS_Naive_Bruck, NS_Naive_SD, NS_Naive_CHS, NS_O_Bruck1,\\\n",
    "       NS_O_Bruck2, NS_O_SD, NS_O_CHS]\n",
    "        \n",
    "\n",
    "\n",
    "print(NS_O_SD[7])\n",
    "subsets = [[2, 3, 4, 5, 6], [12, 13, 14, 15, 16]]\n",
    "\n",
    "# export_data(data, subsets, MessageSizes, 'encrypted_b')\n",
    "\n",
    "\n",
    "\n",
    "for i in range(len(subsets)):\n",
    "    bar_plot(i, subsets, 'encrypted_NS_B_', 'encrypted_b')\n",
    "    "
   ]
  },
  {
   "cell_type": "markdown",
   "metadata": {},
   "source": [
    "## Cyclic"
   ]
  },
  {
   "cell_type": "code",
   "execution_count": 44,
   "metadata": {},
   "outputs": [],
   "source": [
    "NS_Naive_C_Default_8_128 = list(ns_data['Unnamed: 7'][87:109])\n",
    "NS_Naive_C_NB_8_128 = list(ns_data['Unnamed: 8'][87:109])\n",
    "NS_Naive_C_RingNB_8_128 = list(ns_data['Unnamed: 9'][87:109])\n",
    "NS_NaivePlus_C_Default_8_128 = list(ns_data['Unnamed: 10'][87:109])\n",
    "NS_NaivePlus_C_NB_8_128 = list(ns_data['Unnamed: 11'][87:109])\n",
    "NS_NaivePlus_C_RingNB_8_128 = list(ns_data['Unnamed: 12'][87:109])\n",
    "NS_NaivePlus_C_MLRing_8_128 = list(ns_data['Unnamed: 13'][87:109])\n",
    "NS_NaivePlus_C_MLRD_8_128 = list(ns_data['Unnamed: 14'][87:109])\n",
    "NS_NaivePlus_C_ShMem_8_128 = list(ns_data['Unnamed: 15'][87:109])\n",
    "NS_NaivePlus_C_DEShMem_8_128 = list(ns_data['Unnamed: 16'][87:109])\n",
    "NS_NaivePlus_C_RDB_8_128 = list(ns_data['Unnamed: 18'][87:109])\n",
    "\n",
    "data = [NS_Naive_C_Default_8_128, NS_Naive_C_NB_8_128, NS_Naive_C_RingNB_8_128, NS_NaivePlus_C_Default_8_128,\\\n",
    "       NS_NaivePlus_C_NB_8_128, NS_NaivePlus_C_RingNB_8_128, NS_NaivePlus_C_MLRing_8_128,\\\n",
    "        NS_NaivePlus_C_MLRD_8_128, NS_NaivePlus_C_ShMem_8_128, NS_NaivePlus_C_DEShMem_8_128, NS_NaivePlus_C_RDB_8_128]\n",
    "\n",
    "\n",
    "subsets = [[0, 5, 9, 10, 11], [12, 13, 14, 15], [16, 17, 19, 20]]\n",
    "#export_data(data, subsets, MessageSizes, 'encrypted_c')\n",
    "\n",
    "\n",
    "for i in range(len(subsets)):\n",
    "     bar_plot(i, subsets, 'encrypted_NS_C_', 'encrypted_c')\n"
   ]
  },
  {
   "cell_type": "markdown",
   "metadata": {},
   "source": [
    "# Heatmap"
   ]
  },
  {
   "cell_type": "code",
   "execution_count": 38,
   "metadata": {},
   "outputs": [],
   "source": [
    "def export_heatmap_data(data, MessageSizes):\n",
    "    y_len = len(data)\n",
    "    index = 0\n",
    "    with open('heatmap_data.dat', 'w') as output:\n",
    "        for i in range(len(MessageSizes)):\n",
    "            for j in range(len(data)):\n",
    "                new_line = str(i)+ \" \" + str(j) + \" \" + str(data[j][i])\n",
    "                output.write(new_line)\n",
    "                output.write(\"\\n\")\n",
    "            output.write(\"\\n\")\n",
    "\n"
   ]
  },
  {
   "cell_type": "code",
   "execution_count": 39,
   "metadata": {},
   "outputs": [],
   "source": [
    "data = [NS_NaivePlus_Default_8_128, NS_NaivePlus_C_Default_8_128, NS_NaivePlus_NB_8_128, NS_NaivePlus_RingNB_8_128, NS_NaivePlus_MLRing_8_128, NS_NaivePlus_MLRD_8_128,NS_NaivePlus_C_MLRD_8_128]\n",
    "\n",
    "overheads = compute_overheads(NS_Unenc_Default_8_128, data)\n",
    "\n",
    "export_heatmap_data(overheads, MessageSizes)\n"
   ]
  },
  {
   "cell_type": "code",
   "execution_count": 55,
   "metadata": {},
   "outputs": [
    {
     "data": {
      "text/plain": [
       "0"
      ]
     },
     "execution_count": 55,
     "metadata": {},
     "output_type": "execute_result"
    }
   ],
   "source": [
    "cmd = '''gnuplot -e \"label='{}'\" -e \"file='{}'\" Heatmap_Plot.p'''.format('heartmap', 'heatmap_data.dat')\n",
    "os.system(cmd)"
   ]
  },
  {
   "cell_type": "code",
   "execution_count": null,
   "metadata": {},
   "outputs": [],
   "source": []
  }
 ],
 "metadata": {
  "kernelspec": {
   "display_name": "Python 3",
   "language": "python",
   "name": "python3"
  },
  "language_info": {
   "codemirror_mode": {
    "name": "ipython",
    "version": 3
   },
   "file_extension": ".py",
   "mimetype": "text/x-python",
   "name": "python",
   "nbconvert_exporter": "python",
   "pygments_lexer": "ipython3",
   "version": "3.8.5"
  }
 },
 "nbformat": 4,
 "nbformat_minor": 2
}
