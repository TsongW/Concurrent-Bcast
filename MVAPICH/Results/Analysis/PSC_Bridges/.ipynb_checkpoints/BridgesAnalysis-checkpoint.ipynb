{
 "cells": [
  {
   "cell_type": "code",
   "execution_count": 2,
   "metadata": {},
   "outputs": [
    {
     "name": "stdout",
     "output_type": "stream",
     "text": [
      "[16384, 32768, 65536, 131072, 262144, 524288, 1048576, 2097152]\n"
     ]
    }
   ],
   "source": [
    "import pandas as pd\n",
    "import matplotlib.pyplot as plt\n",
    "import seaborn as sns\n",
    "import os\n",
    "import math\n",
    "import PyGnuplot as gp\n",
    "\n",
    "sns.set()\n",
    "sns.set_style(\"whitegrid\")\n",
    "\n",
    "\n",
    "\n",
    "data = pd.read_excel('Bridges-Allgather-MVAPICH.xlsx', sheet_name='Summary')\n",
    "\n",
    "\n",
    "MessageSizes = list(data['Unnamed: 0'][3:11])\n",
    "print(MessageSizes)"
   ]
  },
  {
   "cell_type": "code",
   "execution_count": 6,
   "metadata": {},
   "outputs": [],
   "source": [
    "import matplotlib.font_manager as font_manager\n",
    "font_prop = font_manager.FontProperties(size=20, family='Times')\n",
    "def my_plot(subplot, x, y, labels):    \n",
    "    colors = ['blue', 'red', 'green', 'black', 'orange', 'teal', 'purple', 'navy']\n",
    "    \n",
    "    for i in range(len(labels)):\n",
    "        subplot.plot(x, y[i], '-x', color=colors[i], label=labels[i] , markersize=10, linewidth=2)\n",
    "    \n",
    "    \n",
    "    subplot.tick_params(labelsize=14)\n",
    "    subplot.set_xticks(x[-4:])\n",
    "    \n",
    "    \n",
    "    subplot.set_xlabel('Message Size (B)', fontproperties=font_prop)\n",
    "    subplot.set_ylabel('Latency (us)', fontproperties=font_prop)\n",
    "    \n",
    "    subplot.legend(fontsize=15)\n",
    "    \n",
    "def compute_overheads(base, results):\n",
    "    overheads=[]\n",
    "    for r in results:\n",
    "        overheads.append([100*(i-j)/j for i,j in zip(r, base)])\n",
    "    return overheads\n",
    "\n",
    "def plot_overheads(x, overheads, labels):\n",
    "    colors = ['orange', 'red', 'green', 'blue', 'black', 'pink']\n",
    "    barwidth = 0.13\n",
    "    fig =plt.subplots(figsize=(20, 8))\n",
    "    \n",
    "    for i in range(len(overheads)):\n",
    "        x_br = [j + i*barwidth for j in range(len(x))]\n",
    "        plt.bar(x_br, overheads[i], width=barwidth, label=labels[i], color=colors[i])\n",
    "        \n",
    "    plt.xlabel('Message Size (B)', fontproperties=font_prop)\n",
    "    plt.ylabel('Latency Overhead %', fontproperties=font_prop)\n",
    "    \n",
    "    plt.xticks([r + barwidth for r in range(len(x))], [str(s) for s in x])\n",
    "    plt.tick_params(labelsize=15)\n",
    "    plt.legend(fontsize=15)\n",
    "    plt.show()\n",
    "    \n",
    "\n",
    "def categorize(lists, l_t):\n",
    "    s_list, l_list= [], []\n",
    "    for l in lists:\n",
    "        s_list.append(l[:l_t])\n",
    "        l_list.append(l[l_t:])\n",
    "    return s_list, l_list"
   ]
  },
  {
   "cell_type": "markdown",
   "metadata": {},
   "source": [
    "# GNU Plot"
   ]
  },
  {
   "cell_type": "code",
   "execution_count": 78,
   "metadata": {},
   "outputs": [],
   "source": [
    "import PyGnuplot as gp\n",
    "from math import log\n",
    "\n",
    "\n",
    "\n",
    "def SmallGnuPlot(x, data, label, captions):\n",
    "    \n",
    "    for i in range(len(data)):\n",
    "        gp.s([x, data[i]], captions[i])\n",
    "\n",
    "    cmd = '''gnuplot -e \"label='{}'\" Plot_Small.p'''.format(label)\n",
    "    os.system(cmd)\n",
    "    \n",
    "def LargeGnuPlot(x, data, label, captions):\n",
    "    \n",
    "    for i in range(len(data)):\n",
    "        gp.s([x, data[i]], captions[i])\n",
    "\n",
    "    cmd = '''gnuplot -e \"label='{}'\" Plot_Large.p'''.format(label)\n",
    "    os.system(cmd)"
   ]
  },
  {
   "cell_type": "code",
   "execution_count": 83,
   "metadata": {},
   "outputs": [],
   "source": [
    "SmallGnuPlot(MessageSizes[:6], [NS_Unenc_C_Default_8_128[:6], NS_Unenc_Default_8_128[:6], NS_Unenc_NB_8_128[:6], NS_Unenc_RingNB_8_128[:6]], 'unenc-ns-small-existing', ['Default-Block', 'Default-Cyclic', 'NB', 'RingNB'])\n",
    "\n",
    "LargeGnuPlot(MessageSizes[6:], [NS_Unenc_C_Default_8_128[6:], NS_Unenc_Default_8_128[6:], NS_Unenc_NB_8_128[6:], NS_Unenc_RingNB_8_128[6:]], 'unenc-ns-large-existing', ['Default-Block', 'Default-Cyclic', 'NB', 'RingNB'])"
   ]
  },
  {
   "cell_type": "markdown",
   "metadata": {},
   "source": [
    "# Bar PLots"
   ]
  },
  {
   "cell_type": "code",
   "execution_count": 164,
   "metadata": {},
   "outputs": [],
   "source": [
    "def export_data(data, subsets, MessageSizes):\n",
    "    bars = len(data)\n",
    "    #bar_width = 1.0 / float(bars+1)\n",
    "    index = 0\n",
    "    for i in range(len(subsets)):\n",
    "#        line = 0\n",
    "        with open('bar_data_'+str(i)+'.dat', 'w') as output:\n",
    "            for k in range(subsets[i]):\n",
    "                new_line = str(MessageSizes[index])\n",
    "                for j in range(bars):\n",
    "                    new_line +=  \" \" + str(data[j][index])\n",
    "#                     line+=1\n",
    "                    if j == bars-1:\n",
    "                        index+=1\n",
    "                        output.write(new_line)\n",
    "                        output.write(\"\\n\")\n",
    "#                         line+=1\n",
    "\n",
    "def bar_plot(idx, subsets, label):\n",
    "    types = ['Small', 'Med', 'Large']\n",
    "    cmd = '''gnuplot -e \"label='{}'\" -e \"file='{}'\" Bar_Plot_{}.p'''.format(label+str(idx), 'bar_data_'+str(idx)+'.dat', types[idx])\n",
    "    os.system(cmd)"
   ]
  },
  {
   "cell_type": "code",
   "execution_count": 169,
   "metadata": {},
   "outputs": [],
   "source": [
    "subsets = [5, 5, 4]\n",
    "data = [NS_Unenc_Default_8_128, NS_Unenc_C_Default_8_128, NS_Unenc_NB_8_128, NS_Unenc_RingNB_8_128]\n",
    "\n",
    "# export_data(data, subsets, MessageSizes)\n",
    "start = 0\n",
    "for i in range(len(subsets)):\n",
    "    msgs = MessageSizes[start:start + subsets[i]]\n",
    "    start += subsets[i]\n",
    "    bar_plot(i, subsets, 'unenc_NS_defaults_')"
   ]
  },
  {
   "cell_type": "code",
   "execution_count": 163,
   "metadata": {},
   "outputs": [
    {
     "name": "stdout",
     "output_type": "stream",
     "text": [
      "[256, 512, 1024, 2048, 4096, 8192, 16384, 32768, 65536, 131072, 262144, 524288, 1048576, 2097152]\n"
     ]
    }
   ],
   "source": []
  }
 ],
 "metadata": {
  "kernelspec": {
   "display_name": "Python 3",
   "language": "python",
   "name": "python3"
  },
  "language_info": {
   "codemirror_mode": {
    "name": "ipython",
    "version": 3
   },
   "file_extension": ".py",
   "mimetype": "text/x-python",
   "name": "python",
   "nbconvert_exporter": "python",
   "pygments_lexer": "ipython3",
   "version": "3.7.3"
  }
 },
 "nbformat": 4,
 "nbformat_minor": 2
}
