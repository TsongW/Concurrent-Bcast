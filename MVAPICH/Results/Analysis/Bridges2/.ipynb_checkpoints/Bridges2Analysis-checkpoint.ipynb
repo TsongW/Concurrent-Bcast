{
 "cells": [
  {
   "cell_type": "code",
   "execution_count": 7,
   "metadata": {},
   "outputs": [
    {
     "name": "stdout",
     "output_type": "stream",
     "text": [
      "[1, 2, 4, 8, 16, 32, 64, 128, 256, 512, 1024, 2048, 4096, 8192, 16384, 32768, 65536, 131072]\n"
     ]
    }
   ],
   "source": [
    "import pandas as pd\n",
    "import matplotlib.pyplot as plt\n",
    "import seaborn as sns\n",
    "import os\n",
    "import math\n",
    "import PyGnuplot as gp\n",
    "\n",
    "sns.set()\n",
    "sns.set_style(\"whitegrid\")\n",
    "\n",
    "\n",
    "\n",
    "#inv_data = pd.read_excel('Inv-Allgather-MVAPICH.xlsx', sheet_name='Summary')\n",
    "b_data = pd.read_excel('Bridges-Allgather-MVAPICH.xlsx', sheet_name='Summary')\n",
    "\n",
    "MessageSizes = list(b_data['Unnamed: 0'][3:21])\n",
    "\n",
    "\n",
    "print(MessageSizes)"
   ]
  },
  {
   "cell_type": "markdown",
   "metadata": {},
   "source": [
    "# Bar Plots"
   ]
  },
  {
   "cell_type": "code",
   "execution_count": 8,
   "metadata": {},
   "outputs": [],
   "source": [
    "def export_data(data, subsets, MessageSizes, caption):\n",
    "    bars = len(data)\n",
    "    offsets = [1, 1000, 1000]\n",
    "    for i in range(len(subsets)):\n",
    "        with open(caption+'_bar_data_'+str(i)+'.dat', 'w') as output:\n",
    "            for k in (subsets[i]):\n",
    "                new_line = str(MessageSizes[k])\n",
    "                for j in range(bars):\n",
    "                    new_line +=  \" \" + str(data[j][k]/offsets[i])\n",
    "                    if j == bars-1:\n",
    "                        output.write(new_line)\n",
    "                        output.write(\"\\n\")\n",
    "\n",
    "\n",
    "\n",
    "\n",
    "\n",
    "def bar_plot(idx, subsets, label, caption):\n",
    "    types = ['Small', 'Med', 'Large', 'Large']\n",
    "    if 'unenc' in caption:\n",
    "        plotter = 'Bar_Plot_'\n",
    "    else:\n",
    "        plotter = 'Enc_Bar_Plot_'\n",
    "    cmd = '''gnuplot -e \"label='{}'\" -e \"file='{}'\" {}{}.p'''.format(label+str(idx), caption+'_bar_data_'+str(idx)+'.dat',plotter, types[idx])\n",
    "    os.system(cmd)"
   ]
  },
  {
   "cell_type": "markdown",
   "metadata": {},
   "source": [
    "# Unencrypted"
   ]
  },
  {
   "cell_type": "code",
   "execution_count": 13,
   "metadata": {},
   "outputs": [],
   "source": [
    "B_Unenc_Default_8_128 = list(b_data['Unnamed: 1'][3:21])\n",
    "B_Unenc_NB_8_128 = list(b_data['Unnamed: 2'][3:21])\n",
    "B_Unenc_RingNB_8_128 = list(b_data['Unnamed: 3'][3:21])\n",
    "B_Unenc_MLRing_8_128 = list(b_data['Unnamed: 4'][3:21])\n",
    "B_Unenc_MLRD_8_128 = list(b_data['Unnamed: 5'][3:21])\n",
    "B_Unenc_ShMem_8_128 = list(b_data['Unnamed: 6'][3:21])\n",
    "\n",
    "subsets = [[0, 4, 5, 6, 7], [8, 9, 10, 11, 12, 13], [14, 15, 16, 17]]\n",
    "data = [B_Unenc_Default_8_128, B_Unenc_NB_8_128, B_Unenc_RingNB_8_128, B_Unenc_MLRing_8_128, B_Unenc_MLRD_8_128, B_Unenc_ShMem_8_128]\n",
    "\n",
    "export_data(data, subsets, MessageSizes, 'unenc')\n",
    "\n",
    "for i in range(len(subsets)): \n",
    "    bar_plot(i, subsets, 'unenc_Bridges_B_', 'unenc')"
   ]
  },
  {
   "cell_type": "markdown",
   "metadata": {},
   "source": [
    "# Encrypted"
   ]
  },
  {
   "cell_type": "code",
   "execution_count": 15,
   "metadata": {},
   "outputs": [],
   "source": [
    "B_Naive_Default_8_128 = list(b_data['Unnamed: 7'][3:21])\n",
    "B_Naive_NB_8_128 = list(b_data['Unnamed: 8'][3:21])\n",
    "B_Naive_RingNB_8_128 = list(b_data['Unnamed: 9'][3:21])\n",
    "B_NaivePlus_Default_8_128 = list(b_data['Unnamed: 10'][3:21])\n",
    "B_NaivePlus_NB_8_128 = list(b_data['Unnamed: 11'][3:21])\n",
    "B_NaivePlus_RingNB_8_128 = list(b_data['Unnamed: 12'][3:21])\n",
    "B_NaivePlus_MLRing_8_128 = list(b_data['Unnamed: 13'][3:21])\n",
    "B_NaivePlus_MLRD_8_128 = list(b_data['Unnamed: 14'][3:21])\n",
    "B_NaivePlus_ShMem_8_128 = list(b_data['Unnamed: 15'][3:21])\n",
    "\n",
    "\n",
    "data = [B_Naive_Default_8_128, B_Naive_NB_8_128, B_Naive_RingNB_8_128, B_NaivePlus_Default_8_128,\\\n",
    "       B_NaivePlus_NB_8_128, B_NaivePlus_RingNB_8_128, B_NaivePlus_MLRing_8_128, B_NaivePlus_MLRing_NO_8_128,\\\n",
    "        B_NaivePlus_MLRD_8_128, B_NaivePlus_MLRD_NO_8_128, B_NaivePlus_ShMem_8_128]\n",
    "\n",
    "subsets = [[0, 3, 4, 8, 9], [10, 11, 12, 13, 14], [15, 16, 17]]\n",
    "\n",
    "export_data(data, subsets, MessageSizes, 'encrypted_b')\n",
    "\n",
    "\n",
    "\n",
    "for i in range(len(subsets)):\n",
    "    bar_plot(i, subsets, 'encrypted_B_B_', 'encrypted_b')\n",
    "    "
   ]
  },
  {
   "cell_type": "code",
   "execution_count": null,
   "metadata": {},
   "outputs": [],
   "source": []
  },
  {
   "cell_type": "markdown",
   "metadata": {},
   "source": [
    "# Alignment"
   ]
  },
  {
   "cell_type": "code",
   "execution_count": 1,
   "metadata": {},
   "outputs": [],
   "source": [
    "def parse_alignment(file):\n",
    "    procs = set()\n",
    "    with open(file, 'w') as inp:\n",
    "        for line in inp:\n",
    "            if 'Hello' in line:\n",
    "                toks = line.strip().split()\n",
    "                procs.insert(toks[4])\n",
    "                \n",
    "                \n",
    "    print(procs"
   ]
  }
 ],
 "metadata": {
  "kernelspec": {
   "display_name": "Python 3",
   "language": "python",
   "name": "python3"
  },
  "language_info": {
   "codemirror_mode": {
    "name": "ipython",
    "version": 3
   },
   "file_extension": ".py",
   "mimetype": "text/x-python",
   "name": "python",
   "nbconvert_exporter": "python",
   "pygments_lexer": "ipython3",
   "version": "3.8.5"
  }
 },
 "nbformat": 4,
 "nbformat_minor": 2
}
