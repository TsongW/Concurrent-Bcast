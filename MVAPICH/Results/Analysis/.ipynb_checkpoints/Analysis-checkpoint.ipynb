{
 "cells": [
  {
   "cell_type": "code",
   "execution_count": 3,
   "metadata": {},
   "outputs": [],
   "source": [
    "import pandas as pd\n",
    "import matplotlib.pyplot as plt\n",
    "import seaborn as sns\n",
    "import os\n",
    "import math\n",
    "import PyGnuplot as gp\n",
    "\n",
    "sns.set()\n",
    "sns.set_style(\"whitegrid\")\n",
    "\n",
    "\n",
    "\n",
    "data = pd.read_excel('Results.xlsx', sheet_name='Summary')\n",
    "\n",
    "MessageSizes = list(data['Unnamed: 0'][4:24])\n",
    "\n"
   ]
  },
  {
   "cell_type": "markdown",
   "metadata": {},
   "source": [
    "# 2 Nodes"
   ]
  },
  {
   "cell_type": "markdown",
   "metadata": {},
   "source": [
    "## 1. Default"
   ]
  },
  {
   "cell_type": "code",
   "execution_count": null,
   "metadata": {},
   "outputs": [],
   "source": []
  },
  {
   "cell_type": "markdown",
   "metadata": {},
   "source": [
    "# 3 Nodes"
   ]
  },
  {
   "cell_type": "code",
   "execution_count": 4,
   "metadata": {},
   "outputs": [],
   "source": [
    "Unenc_Default_3 = list(data['Unnamed: 1'][33:53])\n",
    "Unenc_Direct_3 = list(data['Unnamed: 2'][33:53])\n",
    "Unenc_NB_3 = list(data['Unnamed: 3'][33:53])\n",
    "Unenc_Ring_3 = list(data['Unnamed: 4'][33:53])\n",
    "Unenc_Ring_NB_3 = list(data['Unnamed: 5'][33:53])\n",
    "\n",
    "GnuPlot(MessageSizes[:13], Unenc_Default_3[:13], Unenc_Direct_3[:13], Unenc_NB_3[:13], Unenc_Ring_3[:13], Unenc_Ring_NB_3[:13], '3nodes-small', -3, 15)\n",
    "\n",
    "GnuPlot(MessageSizes[13:], Unenc_Default_3[13:], Unenc_Direct_3[13:], Unenc_NB_3[13:], Unenc_Ring_3[13:], Unenc_Ring_NB_3[13:], '3nodes-large', -3, 15)\n",
    "\n",
    "\n",
    "\n",
    "LogGnuPlot(MessageSizes, Unenc_Default_3, Unenc_Direct_3, Unenc_NB_3, Unenc_Ring_3, Unenc_Ring_NB_3, '3nodes-log', 3, 17)\n"
   ]
  },
  {
   "cell_type": "markdown",
   "metadata": {},
   "source": [
    "# 4 Nodes"
   ]
  },
  {
   "cell_type": "code",
   "execution_count": 5,
   "metadata": {},
   "outputs": [],
   "source": [
    "Unenc_Default_4 = list(data['Unnamed: 1'][61:81])\n",
    "Unenc_Direct_4 = list(data['Unnamed: 2'][61:81])\n",
    "Unenc_NB_4 = list(data['Unnamed: 3'][61:81])\n",
    "Unenc_Ring_4 = list(data['Unnamed: 4'][61:81])\n",
    "Unenc_Ring_NB_4 = list(data['Unnamed: 5'][61:81])\n",
    "\n",
    "GnuPlot(MessageSizes[:13], Unenc_Default_4[:13], Unenc_Direct_4[:13], Unenc_NB_4[:13], Unenc_Ring_4[:13], Unenc_Ring_NB_4[:13], '4nodes-small', -3, 15)\n",
    "\n",
    "GnuPlot(MessageSizes[13:], Unenc_Default_4[13:], Unenc_Direct_4[13:], Unenc_NB_4[13:], Unenc_Ring_4[13:], Unenc_Ring_NB_4[13:], '4nodes-large', -3, 15)\n",
    "\n",
    "\n",
    "\n",
    "LogGnuPlot(MessageSizes, Unenc_Default_4, Unenc_Direct_4, Unenc_NB_4, Unenc_Ring_4, Unenc_Ring_NB_4, '4nodes-log', 3, 17)\n"
   ]
  },
  {
   "cell_type": "code",
   "execution_count": null,
   "metadata": {},
   "outputs": [],
   "source": []
  },
  {
   "cell_type": "code",
   "execution_count": null,
   "metadata": {},
   "outputs": [],
   "source": []
  },
  {
   "cell_type": "markdown",
   "metadata": {},
   "source": [
    "# Naive+ NB"
   ]
  },
  {
   "cell_type": "code",
   "execution_count": 13,
   "metadata": {},
   "outputs": [],
   "source": [
    "def NBPlotNaive(x, y1, y2, y3, y4, label, min_y, max_y):\n",
    "    y_tics=\"\"\n",
    "    for i in range(min_y, max_y+1):\n",
    "        y_tics+=('''\"{}\" {},''').format(2**i, i)\n",
    "    gp.s([x, y1], 'Default')\n",
    "    gp.s([x, y2], 'Unencrypted_NB')\n",
    "    gp.s([x, y3], 'Naive_NB')\n",
    "    gp.s([x, y4], 'Naive_Plus_NB')\n",
    "\n",
    "    cmd = '''gnuplot -e \"label='{}'\" -e \"min_y='{}'\" -e \"max_y='{}'\" -e \"y_tics='{}'\" NBNaivePlusPlot.p'''.format(label, min_y, max_y, y_tics[-1])\n",
    "    os.system(cmd)\n",
    "    \n",
    "\n",
    "def NBLogPlotNaive(x, y1, y2, y3, y4, label, min_y, max_y):\n",
    "    log_x=[math.log2(i) for i in x]\n",
    "    log_y1=[math.log2(i) for i in y1]\n",
    "    log_y2=[math.log2(i) for i in y2]\n",
    "    log_y3=[math.log2(i) for i in y3]\n",
    "    log_y4=[math.log2(i) for i in y4]\n",
    "    y_tics=\"\"\n",
    "    for i in range(min_y, max_y+1):\n",
    "        y_tics+=('''\"{}\" {},''').format(2**i, i)\n",
    "    gp.s([log_x, log_y1], 'Default')\n",
    "    gp.s([log_x, log_y2], 'Unencrypted_NB')\n",
    "    gp.s([log_x, log_y3], 'Naive_NB')\n",
    "    gp.s([log_x, log_y4], 'Naive_Plus_NB')\n",
    "    cmd = '''gnuplot -e \"label='{}'\" -e \"min_y='{}'\" -e \"max_y='{}'\" -e \"y_tics='{}'\" NBLogNaivePlusPlot.p'''.format(label, min_y, max_y, y_tics[-1])\n",
    "    os.system(cmd)"
   ]
  },
  {
   "cell_type": "code",
   "execution_count": 14,
   "metadata": {},
   "outputs": [],
   "source": [
    "naive_plus_data = pd.read_excel('Allgather-MVAPICH.xlsx', sheet_name='Summary NB')\n",
    "\n",
    "\n",
    "Unenc_Default_2 = list(naive_plus_data['Unnamed: 1'][4:24])\n",
    "Unenc_NB_2 = list(naive_plus_data['Unnamed: 2'][4:24])\n",
    "Naive_NB_2 = list(naive_plus_data['Unnamed: 3'][4:24])\n",
    "NaivePlus_NB_2 = list(naive_plus_data['Unnamed: 4'][4:24])\n",
    "\n",
    "NBPlotNaive(MessageSizes[:13], Unenc_Default_2[:13], Unenc_NB_2[:13], Naive_NB_2[:13], NaivePlus_NB_2[:13], 'NB-naive-2nodes-small', -3, 15)\n",
    "\n",
    "NBPlotNaive(MessageSizes[13:], Unenc_Default_2[13:], Unenc_NB_2[13:], Naive_NB_2[13:], NaivePlus_NB_2[13:], 'NB-naive-2nodes-large', -3, 15)\n",
    "\n",
    "NBLogPlotNaive(MessageSizes, Unenc_Default_2, Unenc_NB_2, Naive_NB_2, NaivePlus_NB_2, 'NB-naive-2nodes-log', 3, 17)\n"
   ]
  },
  {
   "cell_type": "code",
   "execution_count": 15,
   "metadata": {},
   "outputs": [],
   "source": [
    "Unenc_Default_3 = list(naive_plus_data['Unnamed: 1'][33:53])\n",
    "Unenc_NB_3 = list(naive_plus_data['Unnamed: 2'][33:53])\n",
    "Naive_NB_3 = list(naive_plus_data['Unnamed: 3'][33:53])\n",
    "NaivePlus_NB_3 = list(naive_plus_data['Unnamed: 4'][33:53])\n",
    "\n",
    "\n",
    "NBPlotNaive(MessageSizes[:13], Unenc_Default_3[:13], Unenc_NB_3[:13], Naive_NB_3[:13], NaivePlus_NB_3[:13], 'NB-naive-3nodes-small', -3, 15)\n",
    "\n",
    "NBPlotNaive(MessageSizes[13:], Unenc_Default_3[13:], Unenc_NB_3[13:], Naive_NB_3[13:], NaivePlus_NB_3[13:], 'NB-naive-3nodes-large', -3, 15)\n",
    "\n",
    "NBLogPlotNaive(MessageSizes, Unenc_Default_3, Unenc_NB_3, Naive_NB_3, NaivePlus_NB_3, 'NB-naive-3nodes-log', 3, 17)\n"
   ]
  },
  {
   "cell_type": "code",
   "execution_count": 16,
   "metadata": {},
   "outputs": [],
   "source": [
    "Unenc_Default_4 = list(naive_plus_data['Unnamed: 1'][61:81])\n",
    "Unenc_NB_4 = list(naive_plus_data['Unnamed: 2'][61:81])\n",
    "Naive_NB_4 = list(naive_plus_data['Unnamed: 3'][61:81])\n",
    "NaivePlus_NB_4 = list(naive_plus_data['Unnamed: 4'][61:81])\n",
    "\n",
    "\n",
    "NBPlotNaive(MessageSizes[:13], Unenc_Default_4[:13], Unenc_NB_4[:13], Naive_NB_4[:13], NaivePlus_NB_4[:13], 'NB-naive-4nodes-small', -3, 15)\n",
    "\n",
    "NBPlotNaive(MessageSizes[13:], Unenc_Default_4[13:], Unenc_NB_4[13:], Naive_NB_4[13:], NaivePlus_NB_4[13:], 'NB-naive-4nodes-large', -3, 15)\n",
    "\n",
    "NBLogPlotNaive(MessageSizes, Unenc_Default_4, Unenc_NB_4, Naive_NB_4, NaivePlus_NB_4, 'NB-naive-4nodes-log', 3, 17)\n"
   ]
  },
  {
   "cell_type": "markdown",
   "metadata": {},
   "source": [
    "# Naive+ RingNB"
   ]
  },
  {
   "cell_type": "code",
   "execution_count": 18,
   "metadata": {},
   "outputs": [],
   "source": [
    "def RingNBPlotNaive(x, y1, y2, y3, y4, label, min_y, max_y):\n",
    "    y_tics=\"\"\n",
    "    for i in range(min_y, max_y+1):\n",
    "        y_tics+=('''\"{}\" {},''').format(2**i, i)\n",
    "    gp.s([x, y1], 'Default')\n",
    "    gp.s([x, y2], 'Unencrypted_RingNB')\n",
    "    gp.s([x, y3], 'Naive_RingNB')\n",
    "    gp.s([x, y4], 'Naive_Plus_RingNB')\n",
    "\n",
    "    cmd = '''gnuplot -e \"label='{}'\" -e \"min_y='{}'\" -e \"max_y='{}'\" -e \"y_tics='{}'\" RingNBNaivePlusPlot.p'''.format(label, min_y, max_y, y_tics[-1])\n",
    "    os.system(cmd)\n",
    "    \n",
    "\n",
    "def RingNBLogPlotNaive(x, y1, y2, y3, y4, label, min_y, max_y):\n",
    "    log_x=[math.log2(i) for i in x]\n",
    "    log_y1=[math.log2(i) for i in y1]\n",
    "    log_y2=[math.log2(i) for i in y2]\n",
    "    log_y3=[math.log2(i) for i in y3]\n",
    "    log_y4=[math.log2(i) for i in y4]\n",
    "    y_tics=\"\"\n",
    "    for i in range(min_y, max_y+1):\n",
    "        y_tics+=('''\"{}\" {},''').format(2**i, i)\n",
    "    gp.s([log_x, log_y1], 'Default')\n",
    "    gp.s([log_x, log_y2], 'Unencrypted_RingNB')\n",
    "    gp.s([log_x, log_y3], 'Naive_RingNB')\n",
    "    gp.s([log_x, log_y4], 'Naive_Plus_RingNB')\n",
    "    cmd = '''gnuplot -e \"label='{}'\" -e \"min_y='{}'\" -e \"max_y='{}'\" -e \"y_tics='{}'\" RingNBLogNaivePlusPlot.p'''.format(label, min_y, max_y, y_tics[-1])\n",
    "    os.system(cmd)"
   ]
  },
  {
   "cell_type": "code",
   "execution_count": 19,
   "metadata": {},
   "outputs": [],
   "source": [
    "ringnb_naive_plus_data = pd.read_excel('Allgather-MVAPICH.xlsx', sheet_name='Summary RingNB')\n",
    "\n",
    "\n",
    "Unenc_Default_2 = list(ringnb_naive_plus_data['Unnamed: 1'][4:24])\n",
    "Unenc_RingNB_2 = list(ringnb_naive_plus_data['Unnamed: 2'][4:24])\n",
    "Naive_RingNB_2 = list(ringnb_naive_plus_data['Unnamed: 3'][4:24])\n",
    "NaivePlus_RingNB_2 = list(ringnb_naive_plus_data['Unnamed: 4'][4:24])\n",
    "\n",
    "\n",
    "RingNBPlotNaive(MessageSizes[:13], Unenc_Default_2[:13], Unenc_RingNB_2[:13], Naive_RingNB_2[:13], NaivePlus_RingNB_2[:13], 'RingNB-naive-2nodes-small', -3, 15)\n",
    "\n",
    "RingNBPlotNaive(MessageSizes[13:], Unenc_Default_2[13:], Unenc_RingNB_2[13:], Naive_RingNB_2[13:], NaivePlus_RingNB_2[13:], 'RingNB-naive-2nodes-large', -3, 15)\n",
    "\n",
    "RingNBLogPlotNaive(MessageSizes, Unenc_Default_2, Unenc_RingNB_2, Naive_RingNB_2, NaivePlus_RingNB_2, 'RingNB-naive-2nodes-log', 3, 17)\n"
   ]
  },
  {
   "cell_type": "code",
   "execution_count": 20,
   "metadata": {},
   "outputs": [],
   "source": [
    "Unenc_Default_3 = list(ringnb_naive_plus_data['Unnamed: 1'][32:52])\n",
    "Unenc_RingNB_3 = list(ringnb_naive_plus_data['Unnamed: 2'][32:52])\n",
    "Naive_RingNB_3 = list(ringnb_naive_plus_data['Unnamed: 3'][32:52])\n",
    "NaivePlus_RingNB_3 = list(ringnb_naive_plus_data['Unnamed: 4'][32:52])\n",
    "\n",
    "RingNBPlotNaive(MessageSizes[:13], Unenc_Default_3[:13], Unenc_RingNB_3[:13], Naive_RingNB_3[:13], NaivePlus_RingNB_3[:13], 'RingNB-naive-3nodes-small', -3, 15)\n",
    "\n",
    "RingNBPlotNaive(MessageSizes[13:], Unenc_Default_3[13:], Unenc_RingNB_3[13:], Naive_RingNB_3[13:], NaivePlus_RingNB_3[13:], 'RingNB-naive-3nodes-large', -3, 15)\n",
    "\n",
    "RingNBLogPlotNaive(MessageSizes, Unenc_Default_3, Unenc_RingNB_3, Naive_RingNB_3, NaivePlus_RingNB_3, 'RingNB-naive-3nodes-log', 3, 17)\n"
   ]
  },
  {
   "cell_type": "code",
   "execution_count": 21,
   "metadata": {},
   "outputs": [],
   "source": [
    "Unenc_Default_4 = list(ringnb_naive_plus_data['Unnamed: 1'][59:79])\n",
    "Unenc_RingNB_4 = list(ringnb_naive_plus_data['Unnamed: 2'][59:79])\n",
    "Naive_RingNB_4 = list(ringnb_naive_plus_data['Unnamed: 3'][59:79])\n",
    "NaivePlus_RingNB_4 = list(ringnb_naive_plus_data['Unnamed: 4'][59:79])\n",
    "\n",
    "\n",
    "RingNBPlotNaive(MessageSizes[:13], Unenc_Default_4[:13], Unenc_RingNB_4[:13], Naive_RingNB_4[:13], NaivePlus_RingNB_4[:13], 'RingNB-naive-4nodes-small', -3, 15)\n",
    "\n",
    "RingNBPlotNaive(MessageSizes[13:], Unenc_Default_4[13:], Unenc_RingNB_4[13:], Naive_RingNB_4[13:], NaivePlus_RingNB_4[13:], 'RingNB-naive-4nodes-large', -3, 15)\n",
    "\n",
    "RingNBLogPlotNaive(MessageSizes, Unenc_Default_4, Unenc_RingNB_4, Naive_RingNB_4, NaivePlus_RingNB_4, 'RingNB-naive-4nodes-log', 3, 17)\n"
   ]
  },
  {
   "cell_type": "code",
   "execution_count": null,
   "metadata": {},
   "outputs": [],
   "source": []
  },
  {
   "cell_type": "markdown",
   "metadata": {},
   "source": [
    "# Best Naive+"
   ]
  },
  {
   "cell_type": "code",
   "execution_count": 22,
   "metadata": {},
   "outputs": [],
   "source": [
    "def BestPlotNaive(x, y1, y2, y3, label, min_y, max_y):\n",
    "    y_tics=\"\"\n",
    "    for i in range(min_y, max_y+1):\n",
    "        y_tics+=('''\"{}\" {},''').format(2**i, i)\n",
    "    gp.s([x, y1], 'Default')\n",
    "    gp.s([x, y2], 'NB')\n",
    "    gp.s([x, y3], 'RingNB')\n",
    "\n",
    "    cmd = '''gnuplot -e \"label='{}'\" -e \"min_y='{}'\" -e \"max_y='{}'\" -e \"y_tics='{}'\" BestNaivePlusPlot.p'''.format(label, min_y, max_y, y_tics[-1])\n",
    "    os.system(cmd)\n",
    "    \n",
    "\n",
    "def BestLogPlotNaive(x, y1, y2, y3, label, min_y, max_y):\n",
    "    log_x=[math.log2(i) for i in x]\n",
    "    log_y1=[math.log2(i) for i in y1]\n",
    "    log_y2=[math.log2(i) for i in y2]\n",
    "    log_y3=[math.log2(i) for i in y3]\n",
    "    y_tics=\"\"\n",
    "    for i in range(min_y, max_y+1):\n",
    "        y_tics+=('''\"{}\" {},''').format(2**i, i)\n",
    "    gp.s([log_x, log_y1], 'Default')\n",
    "    gp.s([log_x, log_y2], 'NB')\n",
    "    gp.s([log_x, log_y3], 'RingNB')\n",
    "    \n",
    "    cmd = '''gnuplot -e \"label='{}'\" -e \"min_y='{}'\" -e \"max_y='{}'\" -e \"y_tics='{}'\" BestLogNaivePlusPlot.p'''.format(label, min_y, max_y, y_tics[-1])\n",
    "    os.system(cmd)"
   ]
  },
  {
   "cell_type": "code",
   "execution_count": 23,
   "metadata": {},
   "outputs": [],
   "source": [
    "BestPlotNaive(MessageSizes[:13], Unenc_Default_2[:13], NaivePlus_NB_2[:13], NaivePlus_RingNB_2[:13], 'Bets-np-2nodes-small', -3, 15)\n",
    "BestPlotNaive(MessageSizes[13:], Unenc_Default_2[13:], NaivePlus_NB_2[13:], NaivePlus_RingNB_2[13:], 'Bets-np-2nodes-large', -3, 15)\n",
    "BestLogPlotNaive(MessageSizes, Unenc_Default_2, NaivePlus_NB_2, NaivePlus_RingNB_2, 'Bets-np-2nodes-log', 3, 17)\n",
    "\n",
    "BestPlotNaive(MessageSizes[:13], Unenc_Default_3[:13], NaivePlus_NB_3[:13], NaivePlus_RingNB_3[:13], 'Bets-np-3nodes-small', -3, 15)\n",
    "BestPlotNaive(MessageSizes[13:], Unenc_Default_3[13:], NaivePlus_NB_3[13:], NaivePlus_RingNB_3[13:], 'Bets-np-3nodes-large', -3, 15)\n",
    "BestLogPlotNaive(MessageSizes, Unenc_Default_3, NaivePlus_NB_3, NaivePlus_RingNB_3, 'Bets-np-3nodes-log', 3, 17)\n",
    "\n",
    "BestPlotNaive(MessageSizes[:13], Unenc_Default_4[:13], NaivePlus_NB_4[:13], NaivePlus_RingNB_4[:13], 'Bets-np-4nodes-small', -3, 15)\n",
    "BestPlotNaive(MessageSizes[13:], Unenc_Default_4[13:], NaivePlus_NB_4[13:], NaivePlus_RingNB_4[13:], 'Bets-np-4nodes-large', -3, 15)\n",
    "BestLogPlotNaive(MessageSizes, Unenc_Default_4, NaivePlus_NB_4, NaivePlus_RingNB_4, 'Bets-np-4nodes-log', 3, 17)\n"
   ]
  },
  {
   "cell_type": "code",
   "execution_count": 49,
   "metadata": {},
   "outputs": [],
   "source": []
  },
  {
   "cell_type": "code",
   "execution_count": 26,
   "metadata": {},
   "outputs": [],
   "source": [
    "BestPlotNaive(MessageSizes[:13], Unenc_Default_2[:13], Naive_RingNB_2[:13], NaivePlus_RingNB_2[:13], 'Bets-np-2nodes-small', -3, 15)\n",
    "BestPlotNaive(MessageSizes[13:], Unenc_Default_2[13:], Naive_RingNB_2[13:], NaivePlus_RingNB_2[13:], 'Bets-np-2nodes-large', -3, 15)\n",
    "\n",
    "\n",
    "BestPlotNaive(MessageSizes[:13], Unenc_Default_3[:13], Naive_RingNB_3[:13], NaivePlus_RingNB_3[:13], 'Bets-np-3nodes-small', -3, 15)\n",
    "BestPlotNaive(MessageSizes[13:], Unenc_Default_3[13:], Naive_RingNB_3[13:], NaivePlus_RingNB_3[13:], 'Bets-np-3nodes-large', -3, 15)\n",
    "\n",
    "\n",
    "BestPlotNaive(MessageSizes[:13], Unenc_Default_4[:13], Naive_RingNB_4[:13], NaivePlus_RingNB_4[:13], 'Bets-np-4nodes-small', -3, 15)\n",
    "BestPlotNaive(MessageSizes[13:], Unenc_Default_4[13:], Naive_RingNB_4[13:], NaivePlus_RingNB_4[13:], 'Bets-np-4nodes-large', -3, 15)\n",
    "\n"
   ]
  },
  {
   "cell_type": "markdown",
   "metadata": {},
   "source": [
    "# Hockney Model Errors"
   ]
  },
  {
   "cell_type": "code",
   "execution_count": 22,
   "metadata": {},
   "outputs": [],
   "source": [
    "def ErrPlot(y1, y2, y3, label):\n",
    "    p_y1 = [i*100 for i in y1]\n",
    "    p_y2 = [i*100 for i in y2]\n",
    "    p_y3 = [i*100 for i in y3]\n",
    "    x = [i*2 for i in range(10)]\n",
    "    gp.s([x, p_y1], 'BoringSSL')\n",
    "    gp.s([x, p_y2], 'Libsodium')\n",
    "    gp.s([x, p_y3], 'CryptoPP')\n",
    "    \n",
    "    cmd = '''gnuplot -e \"label='{}'\" ErrPlot.p'''.format(label)\n",
    "    \n",
    "    \n",
    "    os.system(cmd)"
   ]
  },
  {
   "cell_type": "code",
   "execution_count": 73,
   "metadata": {},
   "outputs": [],
   "source": [
    "mp_data = pd.read_excel('../PingPongData/PingPongPerformanceModel.xlsx', sheet_name='Hybrid_Harmonic_Errors')\n",
    "\n",
    "EB = list(mp_data['Unnamed: 11'][1:11])\n",
    "EL = list(mp_data['Unnamed: 13'][1:11])\n",
    "EC = list(mp_data['Unnamed: 14'][1:11])\n",
    "\n",
    "IB = list(mp_data['Unnamed: 15'][1:11])\n",
    "IL = list(mp_data['Unnamed: 17'][1:11])\n",
    "IC = list(mp_data['Unnamed: 18'][1:11])\n",
    "\n",
    "\n",
    "ErrPlot(EB, EL, EC, 'error_enc_pingpong_Ethernet')\n",
    "ErrPlot(IB, IL, IC, 'error_enc_pingpong_IB')\n",
    "# GnuPlot(MessageSizes, I1_measured, I1_predicted, 'I1', -2, 16)\n",
    "# GnuPlot(MessageSizes, I2_measured, I2_predicted, 'I2', -2, 16)\n",
    "# GnuPlot(MessageSizes, I4_measured, I4_predicted, 'I4', -2, 16)\n",
    "# GnuPlot(MessageSizes, I8_measured, I8_predicted, 'I8', -2, 16)\n",
    "\n",
    "\n",
    "# R_measured = [8*m/T for (m,T) in zip(MessageSizes, I8_measured)]\n",
    "# R_predicted = [8*m/T for (m,T) in zip(MessageSizes, I8_predicted)]\n",
    "# GnuPlot(MessageSizes, R_measured, R_predicted, 'R_I8', 0, 22)\n",
    "\n",
    "\n",
    "\n",
    "\n",
    "\n"
   ]
  },
  {
   "cell_type": "code",
   "execution_count": null,
   "metadata": {},
   "outputs": [],
   "source": []
  },
  {
   "cell_type": "markdown",
   "metadata": {},
   "source": [
    "# Multi-Pair\n",
    "\n",
    "## Computation\n"
   ]
  },
  {
   "cell_type": "code",
   "execution_count": 9,
   "metadata": {},
   "outputs": [],
   "source": [
    "mp_data = pd.read_excel('../PingPongData/PingPongPerformanceModel.xlsx', sheet_name='Concurrent_comp')\n",
    "\n",
    "\n",
    "t1_measured = list(mp_data['Unnamed: 3'][22:32])\n",
    "t1_predicted = list(mp_data['Unnamed: 4'][22:32])\n",
    "\n",
    "t2_measured = list(mp_data['Unnamed: 5'][22:32])\n",
    "t2_predicted = list(mp_data['Unnamed: 6'][22:32])\n",
    "\n",
    "t4_measured = list(mp_data['Unnamed: 7'][22:32])\n",
    "t4_predicted = list(mp_data['Unnamed: 8'][22:32])\n",
    "\n",
    "t8_measured = list(mp_data['Unnamed: 9'][22:32])\n",
    "t8_predicted = list(mp_data['Unnamed: 10'][22:32])\n",
    "\n",
    "\n",
    "\n",
    "GnuPlot(MessageSizes, t1_measured, t1_predicted, 't1', -2, 12)\n",
    "GnuPlot(MessageSizes, t2_measured, t2_predicted, 't2', -2, 12)\n",
    "GnuPlot(MessageSizes, t4_measured, t4_predicted, 't4', -2, 12)\n",
    "GnuPlot(MessageSizes, t8_measured, t8_predicted, 't8', -2, 12)\n",
    "\n"
   ]
  },
  {
   "cell_type": "markdown",
   "metadata": {},
   "source": [
    "## Communication"
   ]
  },
  {
   "cell_type": "code",
   "execution_count": 8,
   "metadata": {},
   "outputs": [],
   "source": [
    "# mp_data = pd.read_excel('../PingPongData/PingPongPerformanceModel.xlsx', sheet_name='Concurrent')\n",
    "mp_data = pd.read_excel('../PingPongData/PingPongPerformanceModel.xlsx', sheet_name='Concurrent_comm_2')\n",
    "\n",
    "E1_measured = list(mp_data['Unnamed: 1'][21:31])\n",
    "E1_predicted = list(mp_data['Unnamed: 2'][21:31])\n",
    "\n",
    "E2_measured = list(mp_data['Unnamed: 3'][21:31])\n",
    "E2_predicted = list(mp_data['Unnamed: 4'][21:31])\n",
    "\n",
    "E4_measured = list(mp_data['Unnamed: 5'][21:31])\n",
    "E4_predicted = list(mp_data['Unnamed: 6'][21:31])\n",
    "\n",
    "E8_measured = list(mp_data['Unnamed: 7'][21:31])\n",
    "E8_predicted = list(mp_data['Unnamed: 8'][21:31])\n",
    "\n",
    "\n",
    "\n",
    "I1_measured = list(mp_data['Unnamed: 9'][21:31])\n",
    "I1_predicted = list(mp_data['Unnamed: 10'][21:31])\n",
    "\n",
    "I2_measured = list(mp_data['Unnamed: 11'][21:31])\n",
    "I2_predicted = list(mp_data['Unnamed: 12'][21:31])\n",
    "\n",
    "I4_measured = list(mp_data['Unnamed: 13'][21:31])\n",
    "I4_predicted = list(mp_data['Unnamed: 14'][21:31])\n",
    "\n",
    "I8_measured = list(mp_data['Unnamed: 15'][21:31])\n",
    "I8_predicted = list(mp_data['Unnamed: 16'][21:31])\n",
    "\n",
    "\n",
    "# GnuPlot(MessageSizes, E1_measured, E1_predicted, 'E1', -2, 16)\n",
    "# GnuPlot(MessageSizes, E2_measured, E2_predicted, 'E2', -2, 16)\n",
    "# GnuPlot(MessageSizes, E4_measured, E4_predicted, 'E4', -2, 16)\n",
    "# GnuPlot(MessageSizes, E8_measured, E8_predicted, 'E8', -2, 16)\n",
    "\n",
    "\n",
    "\n",
    "# GnuPlot(MessageSizes, I1_measured, I1_predicted, 'I1', -2, 16)\n",
    "# GnuPlot(MessageSizes, I2_measured, I2_predicted, 'I2', -2, 16)\n",
    "# GnuPlot(MessageSizes, I4_measured, I4_predicted, 'I4', -2, 16)\n",
    "# GnuPlot(MessageSizes, I8_measured, I8_predicted, 'I8', -2, 16)\n",
    "\n",
    "\n",
    "# R_measured = [8*m/T for (m,T) in zip(MessageSizes, I8_measured)]\n",
    "# R_predicted = [8*m/T for (m,T) in zip(MessageSizes, I8_predicted)]\n",
    "# GnuPlot(MessageSizes, R_measured, R_predicted, 'R_I8', 0, 22)\n",
    "\n",
    "\n",
    "\n",
    "\n",
    "\n"
   ]
  },
  {
   "cell_type": "markdown",
   "metadata": {},
   "source": [
    "## Secure Communicaiton"
   ]
  },
  {
   "cell_type": "code",
   "execution_count": 10,
   "metadata": {},
   "outputs": [],
   "source": [
    "# mp_data = pd.read_excel('../PingPongData/PingPongPerformanceModel.xlsx', sheet_name='Concurrent')\n",
    "mp_data = pd.read_excel('../PingPongData/PingPongPerformanceModel.xlsx', sheet_name='Concurrent_sec_comm')\n",
    "\n",
    "E1_measured = list(mp_data['Unnamed: 1'][21:31])\n",
    "E1_predicted = list(mp_data['Unnamed: 2'][21:31])\n",
    "\n",
    "E2_measured = list(mp_data['Unnamed: 3'][21:31])\n",
    "E2_predicted = list(mp_data['Unnamed: 4'][21:31])\n",
    "\n",
    "E4_measured = list(mp_data['Unnamed: 5'][21:31])\n",
    "E4_predicted = list(mp_data['Unnamed: 6'][21:31])\n",
    "\n",
    "E8_measured = list(mp_data['Unnamed: 7'][21:31])\n",
    "E8_predicted = list(mp_data['Unnamed: 8'][21:31])\n",
    "\n",
    "\n",
    "\n",
    "I1_measured = list(mp_data['Unnamed: 9'][21:31])\n",
    "I1_predicted = list(mp_data['Unnamed: 10'][21:31])\n",
    "\n",
    "I2_measured = list(mp_data['Unnamed: 11'][21:31])\n",
    "I2_predicted = list(mp_data['Unnamed: 12'][21:31])\n",
    "\n",
    "I4_measured = list(mp_data['Unnamed: 13'][21:31])\n",
    "I4_predicted = list(mp_data['Unnamed: 14'][21:31])\n",
    "\n",
    "I8_measured = list(mp_data['Unnamed: 15'][21:31])\n",
    "I8_predicted = list(mp_data['Unnamed: 16'][21:31])\n",
    "\n",
    "\n",
    "# GnuPlot(MessageSizes, E1_measured, E1_predicted, 'E1', -2, 16)\n",
    "# GnuPlot(MessageSizes, E2_measured, E2_predicted, 'E2', -2, 16)\n",
    "# GnuPlot(MessageSizes, E4_measured, E4_predicted, 'E4', -2, 16)\n",
    "# GnuPlot(MessageSizes, E8_measured, E8_predicted, 'E8', -2, 16)\n",
    "\n",
    "\n",
    "\n",
    "# GnuPlot(MessageSizes, I1_measured, I1_predicted, 'I1', -2, 16)\n",
    "# GnuPlot(MessageSizes, I2_measured, I2_predicted, 'I2', -2, 16)\n",
    "# GnuPlot(MessageSizes, I4_measured, I4_predicted, 'I4', -2, 16)\n",
    "# GnuPlot(MessageSizes, I8_measured, I8_predicted, 'I8', -2, 16)\n",
    "\n",
    "\n",
    "# R_measured = [8*m/T for (m,T) in zip(MessageSizes, I8_measured)]\n",
    "# R_predicted = [8*m/T for (m,T) in zip(MessageSizes, I8_predicted)]\n",
    "# GnuPlot(MessageSizes, R_measured, R_predicted, 'R_I8', 0, 22)\n",
    "\n",
    "\n",
    "\n",
    "\n",
    "\n"
   ]
  },
  {
   "cell_type": "markdown",
   "metadata": {},
   "source": [
    "## Recomputed"
   ]
  },
  {
   "cell_type": "code",
   "execution_count": 39,
   "metadata": {},
   "outputs": [],
   "source": [
    "mp_data = pd.read_excel('../PingPongData/PingPongPerformanceModel.xlsx', sheet_name='Concurrent_Recomputed')\n",
    "\n",
    "\n",
    "e_t1_measured = list(mp_data['Unnamed: 1'][3:13])\n",
    "e_t1_predicted = list(mp_data['Unnamed: 2'][3:13])\n",
    "\n",
    "e_t2_measured = list(mp_data['Unnamed: 3'][3:13])\n",
    "e_t2_predicted = list(mp_data['Unnamed: 4'][3:13])\n",
    "\n",
    "e_t4_measured = list(mp_data['Unnamed: 5'][3:13])\n",
    "e_t4_predicted = list(mp_data['Unnamed: 6'][3:13])\n",
    "\n",
    "e_t8_measured = list(mp_data['Unnamed: 7'][3:13])\n",
    "e_t8_predicted = list(mp_data['Unnamed: 8'][3:13])\n",
    "\n",
    "\n",
    "\n",
    "i_t1_measured = list(mp_data['Unnamed: 1'][22:32])\n",
    "i_t1_predicted = list(mp_data['Unnamed: 2'][22:32])\n",
    "\n",
    "i_t2_measured = list(mp_data['Unnamed: 3'][22:32])\n",
    "i_t2_predicted = list(mp_data['Unnamed: 4'][22:32])\n",
    "\n",
    "i_t4_measured = list(mp_data['Unnamed: 5'][22:32])\n",
    "i_t4_predicted = list(mp_data['Unnamed: 6'][22:32])\n",
    "\n",
    "i_t8_measured = list(mp_data['Unnamed: 7'][22:32])\n",
    "i_t8_predicted = list(mp_data['Unnamed: 8'][22:32])\n",
    "\n",
    "\n",
    "\n",
    "GnuPlot(MessageSizes, e_t1_measured, e_t1_predicted, 'Eth-1', 0, 15)\n",
    "GnuPlot(MessageSizes, e_t2_measured, e_t2_predicted, 'Eth-2', 0, 15)\n",
    "GnuPlot(MessageSizes, e_t4_measured, e_t4_predicted, 'Eth-4', 0, 15)\n",
    "GnuPlot(MessageSizes, e_t8_measured, e_t8_predicted, 'Eth-8', 0, 15)\n",
    "\n",
    "\n",
    "GnuPlot(MessageSizes, i_t1_measured, i_t1_predicted, 'IB-1', 0, 14)\n",
    "GnuPlot(MessageSizes, i_t2_measured, i_t2_predicted, 'IB-2', 0, 14)\n",
    "GnuPlot(MessageSizes, i_t4_measured, i_t4_predicted, 'IB-4', 0, 14)\n",
    "GnuPlot(MessageSizes, i_t8_measured, i_t8_predicted, 'IB-8', 0, 14)\n",
    "\n",
    "\n",
    "\n",
    "\n",
    "\n",
    "# print(i_t4_predicted)\n",
    "# print(i_t2_measured)"
   ]
  },
  {
   "cell_type": "markdown",
   "metadata": {},
   "source": [
    "## Errors"
   ]
  }
 ],
 "metadata": {
  "kernelspec": {
   "display_name": "Python 3",
   "language": "python",
   "name": "python3"
  },
  "language_info": {
   "codemirror_mode": {
    "name": "ipython",
    "version": 3
   },
   "file_extension": ".py",
   "mimetype": "text/x-python",
   "name": "python",
   "nbconvert_exporter": "python",
   "pygments_lexer": "ipython3",
   "version": "3.7.3"
  }
 },
 "nbformat": 4,
 "nbformat_minor": 2
}
