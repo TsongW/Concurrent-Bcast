{
 "cells": [
  {
   "cell_type": "code",
   "execution_count": 15,
   "metadata": {},
   "outputs": [],
   "source": [
    "\n",
    "\n",
    "import random \n",
    "\n",
    "def generate_random_assignment(nodes, n, p):\n",
    "    popped_nodes = []\n",
    "    for i in range(n):\n",
    "        for j in range(p):\n",
    "            popped_nodes.append(nodes[i])\n",
    "            \n",
    "#     print(popped_nodes)\n",
    "    with open('shuffled_hostfile-'+str(n)+'-'+str(p), 'w') as out:\n",
    "        for i in range(n*p):\n",
    "            c = random.choice(popped_nodes)\n",
    "            out.write(c+'\\n')\n",
    "            popped_nodes.remove(c)\n",
    "\n",
    "        "
   ]
  },
  {
   "cell_type": "code",
   "execution_count": 17,
   "metadata": {},
   "outputs": [],
   "source": [
    "nodes=['ns01', 'ns02', 'ns03', 'ns04', 'ns05', 'ns06', 'ns09', 'ns10']\n",
    "\n",
    "generate_random_assignment(nodes, 7, 13)"
   ]
  }
 ],
 "metadata": {
  "kernelspec": {
   "display_name": "Python 3",
   "language": "python",
   "name": "python3"
  },
  "language_info": {
   "codemirror_mode": {
    "name": "ipython",
    "version": 3
   },
   "file_extension": ".py",
   "mimetype": "text/x-python",
   "name": "python",
   "nbconvert_exporter": "python",
   "pygments_lexer": "ipython3",
   "version": "3.7.3"
  }
 },
 "nbformat": 4,
 "nbformat_minor": 2
}
