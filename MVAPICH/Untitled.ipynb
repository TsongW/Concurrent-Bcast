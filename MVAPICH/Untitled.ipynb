{
 "cells": [
  {
   "cell_type": "code",
   "execution_count": 31,
   "metadata": {},
   "outputs": [
    {
     "name": "stdout",
     "output_type": "stream",
     "text": [
      "0 0 8 2\n",
      "0 1 8 20\n",
      "0 2 8 38\n",
      "1 0 32 8\n",
      "1 1 32 26\n",
      "1 2 32 44\n",
      "2 0 56 14\n",
      "2 1 56 32\n",
      "2 2 56 50\n",
      "---------------------------\n",
      "2\n",
      "20\n",
      "38\n",
      "8\n",
      "26\n",
      "44\n",
      "14\n",
      "32\n",
      "50\n"
     ]
    }
   ],
   "source": [
    "def populate(buff, start, k):\n",
    "    for i in range(k):\n",
    "        buff.append(start+i)\n",
    "\n",
    "        \n",
    "\n",
    "shmem_0 = []\n",
    "populate(shmem_0, 0, 6)\n",
    "populate(shmem_0, 54, 6)\n",
    "populate(shmem_0, 108, 6)\n",
    "populate(shmem_0, 18, 6)\n",
    "populate(shmem_0, 72, 6)\n",
    "populate(shmem_0, 126, 6)\n",
    "populate(shmem_0, 36, 6)\n",
    "populate(shmem_0, 90, 6)\n",
    "populate(shmem_0, 144, 6)\n",
    "\n",
    "n=3\n",
    "local_size=3\n",
    "comm_size=9\n",
    "\n",
    "buff_0, buff_1, buff_2 = [], [], []\n",
    "recvcount=8\n",
    "recvtype_extent = 1\n",
    "my_node_id = 0\n",
    "local_rank=1\n",
    "for i in range(n):\n",
    "    idx = (local_rank + i*local_size) * (recvcount*recvtype_extent)\n",
    "    for j in range(local_size):\n",
    "        print(i, j, idx, idx//4  + j * (comm_size*recvcount*recvtype_extent)//4)\n",
    "#         populate(buff_0, shmem_0[idx  + j * (comm_size*recvcount)], recvcount)\n",
    "\n",
    "print('---------------------------')\n",
    "print(shmem_0.index(2))\n",
    "print(shmem_0.index(20))\n",
    "print(shmem_0.index(38))\n",
    "print(shmem_0.index(56))\n",
    "print(shmem_0.index(74))\n",
    "print(shmem_0.index(92))\n",
    "print(shmem_0.index(110))\n",
    "print(shmem_0.index(128))\n",
    "print(shmem_0.index(146))\n",
    "\n",
    "\n",
    "# print(shmem_0.index(0))\n",
    "# print(shmem_0.index(18))\n",
    "# print(shmem_0.index(36))\n",
    "# print(shmem_0.index(54))\n",
    "# print(shmem_0.index(72))\n",
    "# print(shmem_0.index(90))\n",
    "# print(shmem_0.index(108))\n",
    "# print(shmem_0.index(126))\n",
    "# print(shmem_0.index(144))"
   ]
  }
 ],
 "metadata": {
  "kernelspec": {
   "display_name": "Python 3",
   "language": "python",
   "name": "python3"
  },
  "language_info": {
   "codemirror_mode": {
    "name": "ipython",
    "version": 3
   },
   "file_extension": ".py",
   "mimetype": "text/x-python",
   "name": "python",
   "nbconvert_exporter": "python",
   "pygments_lexer": "ipython3",
   "version": "3.8.5"
  }
 },
 "nbformat": 4,
 "nbformat_minor": 4
}
