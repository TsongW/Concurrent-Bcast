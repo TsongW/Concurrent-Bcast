{
 "cells": [
  {
   "cell_type": "markdown",
   "metadata": {},
   "source": [
    "# Ring"
   ]
  },
  {
   "cell_type": "code",
   "execution_count": 23,
   "metadata": {},
   "outputs": [],
   "source": [
    "def Ring(N):\n",
    "    comm_size = N\n",
    "    comm_world = [[] for i in range(comm_size)]\n",
    "\n",
    "    for i in range(comm_size):\n",
    "        comm_world[i] = [0 for j in range(comm_size)]\n",
    "        comm_world[i][i] = i+1\n",
    "    for i in range(comm_size):\n",
    "        for rank in range(comm_size):\n",
    "            right = (rank+i)%comm_size\n",
    "            left = (comm_size+rank-i-1)%comm_size\n",
    "\n",
    "            next = (rank+1)%comm_size\n",
    "            previous = (comm_size+rank-1)%comm_size\n",
    "\n",
    "            comm_world[next][right] = comm_world[rank][right]\n",
    "            comm_world[rank][left] = comm_world[previous][left]\n",
    "    return comm_world"
   ]
  },
  {
   "cell_type": "markdown",
   "metadata": {},
   "source": [
    "# Recursive Doubling"
   ]
  },
  {
   "cell_type": "code",
   "execution_count": null,
   "metadata": {},
   "outputs": [],
   "source": []
  },
  {
   "cell_type": "markdown",
   "metadata": {},
   "source": [
    "# k-ary Recursive Doubling"
   ]
  },
  {
   "cell_type": "code",
   "execution_count": null,
   "metadata": {},
   "outputs": [],
   "source": []
  },
  {
   "cell_type": "markdown",
   "metadata": {},
   "source": [
    "# Bruck"
   ]
  },
  {
   "cell_type": "code",
   "execution_count": null,
   "metadata": {},
   "outputs": [],
   "source": []
  },
  {
   "cell_type": "markdown",
   "metadata": {},
   "source": [
    "# k-ary Bruck"
   ]
  },
  {
   "cell_type": "code",
   "execution_count": null,
   "metadata": {},
   "outputs": [],
   "source": []
  }
 ],
 "metadata": {
  "kernelspec": {
   "display_name": "Python 3",
   "language": "python",
   "name": "python3"
  },
  "language_info": {
   "codemirror_mode": {
    "name": "ipython",
    "version": 3
   },
   "file_extension": ".py",
   "mimetype": "text/x-python",
   "name": "python",
   "nbconvert_exporter": "python",
   "pygments_lexer": "ipython3",
   "version": "3.7.3"
  }
 },
 "nbformat": 4,
 "nbformat_minor": 2
}
